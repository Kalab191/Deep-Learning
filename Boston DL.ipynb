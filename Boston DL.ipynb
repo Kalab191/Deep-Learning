{
 "cells": [
  {
   "cell_type": "code",
   "execution_count": 2,
   "id": "2c4a23c0",
   "metadata": {},
   "outputs": [],
   "source": [
    "import numpy as np\n",
    "import pandas as pd\n",
    "from keras.datasets import boston_housing"
   ]
  },
  {
   "cell_type": "code",
   "execution_count": 3,
   "id": "e4988c1f",
   "metadata": {},
   "outputs": [
    {
     "name": "stdout",
     "output_type": "stream",
     "text": [
      "Downloading data from https://storage.googleapis.com/tensorflow/tf-keras-datasets/boston_housing.npz\n",
      "57026/57026 [==============================] - 0s 5us/step\n"
     ]
    }
   ],
   "source": [
    "(train_data, train_target), (test_data, test_labels) = boston_housing.load_data()"
   ]
  },
  {
   "cell_type": "code",
   "execution_count": 19,
   "id": "e5775634",
   "metadata": {},
   "outputs": [],
   "source": [
    "mean = train_data.mean(axis=0)\n",
    "std = train_data.std(axis=0) "
   ]
  },
  {
   "cell_type": "code",
   "execution_count": 20,
   "id": "b8d38c42",
   "metadata": {},
   "outputs": [],
   "source": [
    "train_data -= mean\n",
    "train_data /= std\n",
    "\n",
    "test_data -= mean\n",
    "test_data /= std"
   ]
  },
  {
   "cell_type": "code",
   "execution_count": 25,
   "id": "a99c3a84",
   "metadata": {},
   "outputs": [],
   "source": [
    "from keras import models\n",
    "from keras import layers"
   ]
  },
  {
   "cell_type": "code",
   "execution_count": 63,
   "id": "e1ab508d",
   "metadata": {},
   "outputs": [],
   "source": [
    "def build_model():\n",
    "    model = models.Sequential()\n",
    "    model.add(layers.Dense(64, activation='relu', \n",
    "                          input_shape=(train_data.shape[1],)))\n",
    "    model.add(layers.Dense(64, activation='relu'))\n",
    "    model.add(layers.Dense(1))\n",
    "    \n",
    "    model.compile(optimizer='rmsprop', loss='mse', metrics=['mae'])\n",
    "    return model"
   ]
  },
  {
   "cell_type": "code",
   "execution_count": 64,
   "id": "a9f363b9",
   "metadata": {},
   "outputs": [
    {
     "name": "stdout",
     "output_type": "stream",
     "text": [
      "processing fold # 0\n",
      "processing fold # 1\n",
      "processing fold # 2\n",
      "processing fold # 3\n"
     ]
    }
   ],
   "source": [
    "k = 4\n",
    "num_val_samples = len(train_data)//4\n",
    "all_mae_history = []\n",
    "num_epoch = 80\n",
    "\n",
    "for i in range(4):\n",
    "    print('processing fold #',i)\n",
    "    \n",
    "    val_data = train_data[i *  num_val_samples : (i + 1) * num_val_samples]\n",
    "    val_targets = train_target[i *  num_val_samples : (i + 1) * num_val_samples]\n",
    "    \n",
    "    partial_train = np.concatenate(\n",
    "        [train_data[:i * num_val_samples],\n",
    "        train_data[(i + 1) * num_val_samples:]],\n",
    "                                   axis=0)\n",
    "    partial_target = np.concatenate([train_target[:i * num_val_samples],\n",
    "                                   train_target[(i + 1) * num_val_samples:]],\n",
    "                                  axis=0)\n",
    "    model = build_model()\n",
    "    history = model.fit(partial_train, partial_target,\n",
    "                        validation_data=(val_data,val_targets),\n",
    "                        epochs=num_epoch, \n",
    "              batch_size=1, verbose=0)\n",
    "    mae_history = history.history['val_mae']\n",
    "    all_mae_history.append(mae_history)"
   ]
  },
  {
   "cell_type": "code",
   "execution_count": 62,
   "id": "cbf6e023",
   "metadata": {},
   "outputs": [
    {
     "data": {
      "text/plain": [
       "2.518850192055106"
      ]
     },
     "execution_count": 62,
     "metadata": {},
     "output_type": "execute_result"
    }
   ],
   "source": [
    "np.mean(all_mae_history)"
   ]
  },
  {
   "cell_type": "code",
   "execution_count": 48,
   "id": "b5f00d19",
   "metadata": {},
   "outputs": [
    {
     "data": {
      "text/plain": [
       "2.4600839614868164"
      ]
     },
     "execution_count": 48,
     "metadata": {},
     "output_type": "execute_result"
    }
   ],
   "source": [
    "np.mean(all_scores)"
   ]
  },
  {
   "cell_type": "code",
   "execution_count": 58,
   "id": "4265c9da",
   "metadata": {},
   "outputs": [
    {
     "name": "stdout",
     "output_type": "stream",
     "text": [
      "4/4 [==============================] - 0s 2ms/step - loss: 12.0886 - mae: 2.3694\n"
     ]
    }
   ],
   "source": [
    "# final_model\n",
    "final_model = build_model()\n",
    "final_model.fit(train_data, train_target, epochs=100, batch_size=1,verbose=0)\n",
    "test_mse_score, test_mae_score = final_model.evaluate(test_data, test_labels)"
   ]
  },
  {
   "cell_type": "code",
   "execution_count": 59,
   "id": "9aa9472f",
   "metadata": {},
   "outputs": [
    {
     "data": {
      "text/plain": [
       "2.369441270828247"
      ]
     },
     "execution_count": 59,
     "metadata": {},
     "output_type": "execute_result"
    }
   ],
   "source": [
    "test_mae_score"
   ]
  },
  {
   "cell_type": "code",
   "execution_count": null,
   "id": "11652b23",
   "metadata": {},
   "outputs": [],
   "source": []
  }
 ],
 "metadata": {
  "kernelspec": {
   "display_name": "Python 3 (ipykernel)",
   "language": "python",
   "name": "python3"
  },
  "language_info": {
   "codemirror_mode": {
    "name": "ipython",
    "version": 3
   },
   "file_extension": ".py",
   "mimetype": "text/x-python",
   "name": "python",
   "nbconvert_exporter": "python",
   "pygments_lexer": "ipython3",
   "version": "3.9.7"
  }
 },
 "nbformat": 4,
 "nbformat_minor": 5
}
