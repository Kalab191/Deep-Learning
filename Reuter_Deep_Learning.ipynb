{
 "cells": [
  {
   "cell_type": "code",
   "execution_count": 1,
   "id": "faaa7b16",
   "metadata": {},
   "outputs": [],
   "source": [
    "# Import the reuters dataset\n",
    "from keras.datasets import reuters"
   ]
  },
  {
   "cell_type": "code",
   "execution_count": 4,
   "id": "78b05b35",
   "metadata": {},
   "outputs": [
    {
     "name": "stdout",
     "output_type": "stream",
     "text": [
      "Downloading data from https://storage.googleapis.com/tensorflow/tf-keras-datasets/reuters.npz\n",
      "2113536/2110848 [==============================] - 3s 1us/step\n",
      "2121728/2110848 [==============================] - 3s 1us/step\n"
     ]
    }
   ],
   "source": [
    "# Load the reuters dataset taking 10000 most common words\n",
    "(train_data,train_labels), (test_data,test_labels) = reuters.load_data(\n",
    "    num_words=10000)"
   ]
  },
  {
   "cell_type": "code",
   "execution_count": 95,
   "id": "4dd63ba5",
   "metadata": {},
   "outputs": [],
   "source": [
    "import numpy as np"
   ]
  },
  {
   "cell_type": "code",
   "execution_count": 96,
   "id": "954fcd5f",
   "metadata": {},
   "outputs": [],
   "source": [
    "#Creating a function that will transform my list into a tensor\n",
    "def vectorize_sequence(sequences,dimension=10000):\n",
    "    results = np.zeros((len(sequences),dimension))\n",
    "    for i , sequence in enumerate(sequences):\n",
    "        results[i , sequence] = 1\n",
    "    return results"
   ]
  },
  {
   "cell_type": "code",
   "execution_count": 112,
   "id": "c36f6d5d",
   "metadata": {},
   "outputs": [],
   "source": [
    "#Creating a function that will help transform my labels\n",
    "def to_one_hot(labels,dimensions=46):\n",
    "    results = np.zeros((len(labels),dimensions))\n",
    "    for i , label in enumerate(labels):\n",
    "        results[i, label] = 1\n",
    "    return results"
   ]
  },
  {
   "cell_type": "code",
   "execution_count": 97,
   "id": "552f875c",
   "metadata": {},
   "outputs": [],
   "source": [
    "#Transforming my training and testing data\n",
    "vec_train_data = vectorize_sequence(train_data)\n",
    "vec_test_data = vectorize_sequence(test_data)"
   ]
  },
  {
   "cell_type": "code",
   "execution_count": 113,
   "id": "ca1dc51d",
   "metadata": {},
   "outputs": [],
   "source": [
    "#Transforming my training and testing labels into a vector\n",
    "vec_train_labels = to_one_hot(train_labels)\n",
    "vec_test_labels = to_one_hot(test_labels)"
   ]
  },
  {
   "cell_type": "code",
   "execution_count": 101,
   "id": "f2c7457a",
   "metadata": {},
   "outputs": [],
   "source": [
    "#Importing useful libraries\n",
    "from keras import models\n",
    "from keras import layers"
   ]
  },
  {
   "cell_type": "code",
   "execution_count": 116,
   "id": "abc8b922",
   "metadata": {},
   "outputs": [],
   "source": [
    "#Building my model\n",
    "\n",
    "model = models.Sequential()\n",
    "model.add(layers.Dense(64, activation='relu', input_shape=(10000,)))\n",
    "model.add(layers.Dense(64, activation='relu'))\n",
    "model.add(layers.Dense(46, activation='softmax'))\n",
    "    \n",
    "model.compile(optimizer='rmsprop',loss='categorical_crossentropy',\n",
    "                  metrics=['accuracy'])\n"
   ]
  },
  {
   "cell_type": "code",
   "execution_count": 114,
   "id": "2e4ae68f",
   "metadata": {},
   "outputs": [],
   "source": [
    "# Split the data into validation and training set\n",
    "x_train = vec_train_data[1000:]\n",
    "x_val = vec_train_data[:1000]\n",
    "y_train = vec_train_labels[1000:]\n",
    "y_val = vec_train_labels[:1000]"
   ]
  },
  {
   "cell_type": "code",
   "execution_count": 126,
   "id": "fb303eca",
   "metadata": {},
   "outputs": [
    {
     "name": "stdout",
     "output_type": "stream",
     "text": [
      "Epoch 1/20\n",
      "16/16 [==============================] - 1s 65ms/step - loss: 0.1165 - accuracy: 0.9565 - val_loss: 1.1491 - val_accuracy: 0.7970\n",
      "Epoch 2/20\n",
      "16/16 [==============================] - 1s 60ms/step - loss: 0.1086 - accuracy: 0.9574 - val_loss: 1.1182 - val_accuracy: 0.7990\n",
      "Epoch 3/20\n",
      "16/16 [==============================] - 1s 58ms/step - loss: 0.1043 - accuracy: 0.9590 - val_loss: 1.1358 - val_accuracy: 0.8080\n",
      "Epoch 4/20\n",
      "16/16 [==============================] - 1s 60ms/step - loss: 0.1087 - accuracy: 0.9577 - val_loss: 1.1270 - val_accuracy: 0.7980\n",
      "Epoch 5/20\n",
      "16/16 [==============================] - 1s 60ms/step - loss: 0.1026 - accuracy: 0.9575 - val_loss: 1.2623 - val_accuracy: 0.7790\n",
      "Epoch 6/20\n",
      "16/16 [==============================] - 1s 59ms/step - loss: 0.1039 - accuracy: 0.9575 - val_loss: 1.1899 - val_accuracy: 0.8100\n",
      "Epoch 7/20\n",
      "16/16 [==============================] - 1s 61ms/step - loss: 0.1000 - accuracy: 0.9582 - val_loss: 1.1780 - val_accuracy: 0.7970\n",
      "Epoch 8/20\n",
      "16/16 [==============================] - 1s 61ms/step - loss: 0.0999 - accuracy: 0.9569 - val_loss: 1.1623 - val_accuracy: 0.7880\n",
      "Epoch 9/20\n",
      "16/16 [==============================] - 1s 66ms/step - loss: 0.0966 - accuracy: 0.9578 - val_loss: 1.2041 - val_accuracy: 0.7970\n",
      "Epoch 10/20\n",
      "16/16 [==============================] - 1s 94ms/step - loss: 0.0999 - accuracy: 0.9574 - val_loss: 1.2074 - val_accuracy: 0.7930\n",
      "Epoch 11/20\n",
      "16/16 [==============================] - 1s 87ms/step - loss: 0.0950 - accuracy: 0.9590 - val_loss: 1.2136 - val_accuracy: 0.7980\n",
      "Epoch 12/20\n",
      "16/16 [==============================] - 1s 76ms/step - loss: 0.0957 - accuracy: 0.9585 - val_loss: 1.2251 - val_accuracy: 0.8030\n",
      "Epoch 13/20\n",
      "16/16 [==============================] - 1s 78ms/step - loss: 0.0963 - accuracy: 0.9582 - val_loss: 1.2582 - val_accuracy: 0.7890\n",
      "Epoch 14/20\n",
      "16/16 [==============================] - 1s 74ms/step - loss: 0.0943 - accuracy: 0.9574 - val_loss: 1.2634 - val_accuracy: 0.7900\n",
      "Epoch 15/20\n",
      "16/16 [==============================] - 1s 73ms/step - loss: 0.0902 - accuracy: 0.9583 - val_loss: 1.3116 - val_accuracy: 0.7870\n",
      "Epoch 16/20\n",
      "16/16 [==============================] - 1s 69ms/step - loss: 0.0918 - accuracy: 0.9577 - val_loss: 1.3103 - val_accuracy: 0.7850\n",
      "Epoch 17/20\n",
      "16/16 [==============================] - 1s 66ms/step - loss: 0.0915 - accuracy: 0.9573 - val_loss: 1.3082 - val_accuracy: 0.7890\n",
      "Epoch 18/20\n",
      "16/16 [==============================] - 1s 73ms/step - loss: 0.0861 - accuracy: 0.9587 - val_loss: 1.3078 - val_accuracy: 0.7850\n",
      "Epoch 19/20\n",
      "16/16 [==============================] - 1s 74ms/step - loss: 0.0911 - accuracy: 0.9575 - val_loss: 1.2964 - val_accuracy: 0.7920\n",
      "Epoch 20/20\n",
      "16/16 [==============================] - 1s 69ms/step - loss: 0.0880 - accuracy: 0.9593 - val_loss: 1.3228 - val_accuracy: 0.7830\n"
     ]
    }
   ],
   "source": [
    "# fit the model on the training set\n",
    "history = model.fit(x_train,y_train,epochs=20,batch_size=512,\n",
    "         validation_data=(x_val,y_val))"
   ]
  },
  {
   "cell_type": "code",
   "execution_count": 127,
   "id": "eef83e44",
   "metadata": {},
   "outputs": [],
   "source": [
    "dic = history.history"
   ]
  },
  {
   "cell_type": "code",
   "execution_count": 123,
   "id": "3dd57d53",
   "metadata": {},
   "outputs": [],
   "source": [
    "import matplotlib.pyplot as plt\n",
    "%matplotlib inline"
   ]
  },
  {
   "cell_type": "code",
   "execution_count": 128,
   "id": "5a56c7af",
   "metadata": {},
   "outputs": [
    {
     "data": {
      "text/plain": [
       "<matplotlib.legend.Legend at 0x20ce1c08910>"
      ]
     },
     "execution_count": 128,
     "metadata": {},
     "output_type": "execute_result"
    },
    {
     "data": {
      "image/png": "[encoded data removed]",
      "text/plain": [
       "<Figure size 432x288 with 1 Axes>"
      ]
     },
     "metadata": {
      "needs_background": "light"
     },
     "output_type": "display_data"
    }
   ],
   "source": [
    "# A plot to show the variation of accuracies with epoch\n",
    "val_acc = dic['val_accuracy']\n",
    "train_acc = dic['accuracy']\n",
    "epoch = range(1, len(val_acc)+1)\n",
    "plt.plot(epoch, val_acc, 'o', color='red', label= 'Validation accuracy')\n",
    "plt.plot(epoch, train_acc, '--', color='blue', label = 'Training accuracy')\n",
    "plt.xlabel('Epoch')\n",
    "plt.ylabel('Accuracy')\n",
    "plt.title('Accuracies vs Epoch')\n",
    "plt.legend()"
   ]
  },
  {
   "cell_type": "code",
   "execution_count": 129,
   "id": "bc47807c",
   "metadata": {},
   "outputs": [
    {
     "name": "stdout",
     "output_type": "stream",
     "text": [
      "71/71 [==============================] - 0s 4ms/step - loss: 1.5619 - accuracy: 0.7667\n"
     ]
    }
   ],
   "source": [
    "results = model.evaluate(vec_test_data,vec_test_labels)"
   ]
  },
  {
   "cell_type": "code",
   "execution_count": 130,
   "id": "04afe08e",
   "metadata": {},
   "outputs": [
    {
     "data": {
      "text/plain": [
       "[1.5618854761123657, 0.7666963338851929]"
      ]
     },
     "execution_count": 130,
     "metadata": {},
     "output_type": "execute_result"
    }
   ],
   "source": [
    "results"
   ]
  }
 ],
 "metadata": {
  "kernelspec": {
   "display_name": "Python 3 (ipykernel)",
   "language": "python",
   "name": "python3"
  },
  "language_info": {
   "codemirror_mode": {
    "name": "ipython",
    "version": 3
   },
   "file_extension": ".py",
   "mimetype": "text/x-python",
   "name": "python",
   "nbconvert_exporter": "python",
   "pygments_lexer": "ipython3",
   "version": "3.9.7"
  }
 },
 "nbformat": 4,
 "nbformat_minor": 5
}
