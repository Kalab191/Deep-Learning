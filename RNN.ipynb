{
 "cells": [
  {
   "cell_type": "code",
   "execution_count": 4,
   "id": "155edab8",
   "metadata": {},
   "outputs": [],
   "source": [
    "from keras.datasets import imdb\n",
    "from tensorflow.keras.preprocessing.sequence import pad_sequences"
   ]
  },
  {
   "cell_type": "code",
   "execution_count": 6,
   "id": "01d25ad8",
   "metadata": {},
   "outputs": [
    {
     "name": "stdout",
     "output_type": "stream",
     "text": [
      "Loading data...\n",
      "25000 train sequences\n",
      "25000 test sequences\n",
      "Pad sequences (samples x time)\n",
      "input_train shape: (25000, 500)\n",
      "input_test shape: (25000, 500)\n"
     ]
    }
   ],
   "source": [
    "max_features = 10000\n",
    "maxlen = 500\n",
    "batch_size = 32\n",
    "\n",
    "print('Loading data...')\n",
    "(input_train, y_train), (input_test, y_test) = imdb.load_data( \n",
    "    num_words=max_features)\n",
    "\n",
    "print(len(input_train), 'train sequences')\n",
    "print(len(input_test), 'test sequences')\n",
    "print('Pad sequences (samples x time)')\n",
    "\n",
    "input_train = pad_sequences(input_train, maxlen=maxlen)\n",
    "input_test = pad_sequences(input_test, maxlen=maxlen)\n",
    "\n",
    "print('input_train shape:', input_train.shape)\n",
    "print('input_test shape:', input_test.shape)"
   ]
  },
  {
   "cell_type": "code",
   "execution_count": 7,
   "id": "6c9754e8",
   "metadata": {},
   "outputs": [
    {
     "name": "stdout",
     "output_type": "stream",
     "text": [
      "Epoch 1/10\n",
      "157/157 [==============================] - 23s 134ms/step - loss: 0.6658 - acc: 0.5827 - val_loss: 0.5060 - val_acc: 0.7778\n",
      "Epoch 2/10\n",
      "157/157 [==============================] - 22s 138ms/step - loss: 0.4355 - acc: 0.8091 - val_loss: 0.4515 - val_acc: 0.7890\n",
      "Epoch 3/10\n",
      "157/157 [==============================] - 22s 143ms/step - loss: 0.2974 - acc: 0.8825 - val_loss: 0.4588 - val_acc: 0.7814\n",
      "Epoch 4/10\n",
      "157/157 [==============================] - 22s 140ms/step - loss: 0.2271 - acc: 0.9150 - val_loss: 0.4416 - val_acc: 0.7964\n",
      "Epoch 5/10\n",
      "157/157 [==============================] - 23s 144ms/step - loss: 0.1637 - acc: 0.9428 - val_loss: 0.6054 - val_acc: 0.7782\n",
      "Epoch 6/10\n",
      "157/157 [==============================] - 22s 139ms/step - loss: 0.1113 - acc: 0.9628 - val_loss: 0.4334 - val_acc: 0.8488\n",
      "Epoch 7/10\n",
      "157/157 [==============================] - 22s 139ms/step - loss: 0.0677 - acc: 0.9790 - val_loss: 0.5271 - val_acc: 0.8354\n",
      "Epoch 8/10\n",
      "157/157 [==============================] - 23s 143ms/step - loss: 0.0408 - acc: 0.9887 - val_loss: 0.6343 - val_acc: 0.7932\n",
      "Epoch 9/10\n",
      "157/157 [==============================] - 22s 139ms/step - loss: 0.0287 - acc: 0.9920 - val_loss: 0.7190 - val_acc: 0.7704\n",
      "Epoch 10/10\n",
      "157/157 [==============================] - 22s 138ms/step - loss: 0.0322 - acc: 0.9895 - val_loss: 0.6586 - val_acc: 0.8038\n"
     ]
    },
    {
     "data": {
      "text/plain": [
       "<keras.callbacks.History at 0x1bc81f4ec40>"
      ]
     },
     "execution_count": 7,
     "metadata": {},
     "output_type": "execute_result"
    }
   ],
   "source": [
    "from keras import layers\n",
    "from keras import models\n",
    "\n",
    "model = models.Sequential()\n",
    "model.add(layers.Embedding(max_features, 32))\n",
    "model.add(layers.SimpleRNN(32))\n",
    "model.add(layers.Dense(1, activation='sigmoid'))\n",
    "\n",
    "model.compile(optimizer='rmsprop', loss='binary_crossentropy', metrics=['acc'])\n",
    "\n",
    "model.fit(input_train, y_train, epochs=10, batch_size=128,\n",
    "         validation_split=0.2)"
   ]
  }
 ],
 "metadata": {
  "kernelspec": {
   "display_name": "Python 3 (ipykernel)",
   "language": "python",
   "name": "python3"
  },
  "language_info": {
   "codemirror_mode": {
    "name": "ipython",
    "version": 3
   },
   "file_extension": ".py",
   "mimetype": "text/x-python",
   "name": "python",
   "nbconvert_exporter": "python",
   "pygments_lexer": "ipython3",
   "version": "3.9.7"
  }
 },
 "nbformat": 4,
 "nbformat_minor": 5
}
