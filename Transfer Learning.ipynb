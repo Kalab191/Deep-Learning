{
 "cells": [
  {
   "cell_type": "code",
   "execution_count": null,
   "id": "aeec7daf",
   "metadata": {},
   "outputs": [],
   "source": [
    "# Import the necessary libraries\n",
    "import tensorflow as tf\n",
    "import pandas as pd\n",
    "import numpy as np\n",
    "from keras.preprocessing import image\n",
    "from keras.applications import vgg16"
   ]
  },
  {
   "cell_type": "code",
   "execution_count": null,
   "id": "b70afd6f",
   "metadata": {},
   "outputs": [],
   "source": [
    "# How to use a pretrained Neural Network to object recognition\n",
    "\n",
    "import numpy as np\n",
    "from keras.preprocessing import image\n",
    "from keras.applications import vgg16\n",
    "\n",
    "# Load keras VGG16 model that ws prtrained using the imagenet dataset\n",
    "model = vgg16.VGG16()\n",
    "\n",
    "# Load the image file, resizing it to (224, 224) pixel (required by this model)\n",
    "img = image.image_utils.load_img('bay.jpg', target_size=(224,224))\n",
    "\n",
    "# Convert it to a numpy array\n",
    "x = image.image_utils.img_to_array(img)\n",
    "\n",
    "# Add a fourth dimension(since keras expects a list of images)\n",
    "x = np.expand_dims(x, axis=0)\n",
    "\n",
    "# Normalize the input_image pixel value range between 0 and 1\n",
    "x = vgg16.preprocess_input(x)\n",
    "\n",
    "# Run the image through the deep neural network to make a prediction\n",
    "predictions = model.predict(x)\n",
    "\n",
    "# look up the names of the predicted classes\n",
    "predicted_classes = vgg16.decode_predictions(predictions, top=9)\n",
    "\n",
    "print('Top predictions for this image:')\n",
    "\n",
    "for imagenet_id, name, likelihood in predicted_classes[0]:\n",
    "    print('Prediction: {} - {:2f}'.format(name, likelihood))"
   ]
  },
  {
   "cell_type": "code",
   "execution_count": null,
   "id": "d0b374e8",
   "metadata": {},
   "outputs": [],
   "source": [
    "from pathlib import Path\n",
    "\n",
    "\n",
    "dog = Path('dogs')\n",
    "non_dog = Path('non_dogs')"
   ]
  },
  {
   "cell_type": "code",
   "execution_count": null,
   "id": "0c734d2c",
   "metadata": {},
   "outputs": [],
   "source": [
    "images=[]\n",
    "labels =[]"
   ]
  },
  {
   "cell_type": "code",
   "execution_count": null,
   "id": "185cbec4",
   "metadata": {},
   "outputs": [],
   "source": [
    "# Load the dog and non dog images to images and their labels to labels\n",
    "for img in dog.glob('*.png'):\n",
    "    img = image.image_utils.load_img(img)\n",
    "    image_array = image.image_utils.img_to_array(img)\n",
    "    images.append(image_array)\n",
    "    labels.append(1)\n",
    "for img in non_dog.glob('*.png'):\n",
    "    img = image.image_utils.load_img(img)\n",
    "    image_array = image.image_utils.img_to_array(img)\n",
    "    images.append(image_array)\n",
    "    labels.append(0)"
   ]
  },
  {
   "cell_type": "code",
   "execution_count": null,
   "id": "09290a39",
   "metadata": {},
   "outputs": [],
   "source": [
    "# Convert the images and labels into a numpy array\n",
    "x_train = np.array(images)\n",
    "y_train = np.array(labels)"
   ]
  },
  {
   "cell_type": "code",
   "execution_count": null,
   "id": "5873fea1",
   "metadata": {},
   "outputs": [],
   "source": [
    "# Normalize image data to 0-1 range\n",
    "x_train = vgg16.preprocess_input(x_train)\n",
    "\n",
    "# Load a pretrained NN \n",
    "pretrained_nn = vgg16.VGG16(weight='imagenet',\n",
    "                           include_top=False,\n",
    "                           input_shape=(64, 64, 3))\n",
    "\n",
    "# Extract features for each image (all in one pass)\n",
    "feature_x = pretrained_nn.predict(x_train)\n",
    "\n",
    "# Save the array of the extracted features to a file\n",
    "joblib.dump(features_x, 'x_train.dat')\n",
    "\n",
    "# Save the matching array of expected values to a file\n",
    "joblib.dump(y_train, 'y_train.dat')"
   ]
  },
  {
   "cell_type": "code",
   "execution_count": null,
   "id": "b3800099",
   "metadata": {},
   "outputs": [],
   "source": [
    "# Training with extracted features\n",
    "\n",
    "#load data set\n",
    "x_train = joblib.load('x_train.dat')\n",
    "y_train = joblib.load('y_train.dat')\n",
    "\n",
    "# Create a model and add layers\n",
    "model = Sequential()\n",
    "\n",
    "model.add(Flatten(input_shape=x_train.shape[1:]))\n",
    "model.add(Dense(256, activation='relu'))\n",
    "model.add(Dropout(0.5))\n",
    "model.add(Dense(1, activation='sigmoid'))\n",
    "\n",
    "\n",
    "# Compile the model\n",
    "model.compile(\n",
    "            loss='binary_crossentropy',\n",
    "            optimizer='adam',\n",
    "            metrics=['accuracy'])\n",
    "\n",
    "# Train the model\n",
    "model.fit(x_train,\n",
    "         y_train,\n",
    "         epochs=10,\n",
    "         shuffle=True\n",
    "         )\n",
    "# Save neural network structure\n",
    "model_structure = model.to_json()\n",
    "f = path('model_structure.json')\n",
    "f.write_text(model_structure)\n",
    "\n",
    "# Save neural network's trained weights\n",
    "model.save_weights('model_weights.h5')"
   ]
  },
  {
   "cell_type": "code",
   "execution_count": null,
   "id": "0cae9dbb",
   "metadata": {},
   "outputs": [],
   "source": [
    "# Making predictions with transfer learning\n",
    "from keras.models import model_from_json\n",
    "\n",
    "\n",
    "# Loading the json file that contain the model's structure\n",
    "f = Path('model_structure.json')\n",
    "model_structure = f.read_text()\n",
    "\n",
    "# Recreate the Keras model object from the json data\n",
    "model = model_from_json(model_structure)\n",
    "\n",
    "# Re-load the model's trained weight\n",
    "model.load_weight('model_weights.h5')\n",
    "\n",
    "#Load an image file to test, resizing it to 64 * 64 \n",
    "img = image.image_utils.load_img('dog.png', target_size=(64, 64))\n",
    "\n",
    "# Convert the image to a numpy array\n",
    "image_array = image.image_utils.img_to_array(img)\n",
    "\n",
    "# Add a fourth dimension\n",
    "images = np.expand_dim(image_array, axis=0)\n",
    "\n",
    "# Normalize the data\n",
    "images = vgg16.preprocess_input(images)\n",
    "\n",
    "# Use the pretrained model to extract features from the test image\n",
    "feature_extraction_model = vgg16.VGG16(weights='imagenet',\n",
    "                                      include_top=False,\n",
    "                                      input_shape=(64,64,3))\n",
    "features = feature_extraction_model.predict(images)\n",
    "\n",
    "# Make a final prediction using our own model\n",
    "results = model.predict(features)\n",
    "\n"
   ]
  }
 ],
 "metadata": {
  "kernelspec": {
   "display_name": "Python 3 (ipykernel)",
   "language": "python",
   "name": "python3"
  },
  "language_info": {
   "codemirror_mode": {
    "name": "ipython",
    "version": 3
   },
   "file_extension": ".py",
   "mimetype": "text/x-python",
   "name": "python",
   "nbconvert_exporter": "python",
   "pygments_lexer": "ipython3",
   "version": "3.9.7"
  }
 },
 "nbformat": 4,
 "nbformat_minor": 5
}
